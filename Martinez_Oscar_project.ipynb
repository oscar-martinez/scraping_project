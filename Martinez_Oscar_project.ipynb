{
 "cells": [
  {
   "cell_type": "markdown",
   "metadata": {},
   "source": [
    "# Computing lab: Scraping project\n",
    "## Oscar Martínez Franco\n",
    "In this project we will scrape from the tech site laptopsdirect. For this project we  will navigate through this store website to find a new laptop to buy. The website has more than 1500 laptops in its database and we will scrape them all. From each laptop we will follow the url to its personal description page and from there we will obtain the different specs that can be important when trying to buy a new laptop. These specs are: the full name, the price,the processor name and manfacturer, the storage, the RAM memory, the screen size, if the screen if a touchscreen or not and some others. This data will then be stored in a pandas dataframe and saved in our computer in a csv file. The advantage of saving it into a pandas dataframe first is that this library offers a wide rango of possibilities when it comes to filtering and ploting data. Therefore, it could be really easy to come with a selection of laptops based on their price, their comutational power or its battery runtime."
   ]
  },
  {
   "cell_type": "code",
   "execution_count": 29,
   "metadata": {},
   "outputs": [],
   "source": [
    "from bs4 import BeautifulSoup\n",
    "import requests as rq\n",
    "import time\n",
    "import re\n",
    "from time import perf_counter\n",
    "import csv\n",
    "import pandas as pd\n",
    "from threading import Thread\n",
    "from queue import Queue"
   ]
  },
  {
   "cell_type": "code",
   "execution_count": 2,
   "metadata": {},
   "outputs": [],
   "source": [
    "def get_soup(url): #we build this function to get the soup object out of an url and return it \n",
    "    c=rq.get(url)\n",
    "    result=c.content\n",
    "    soup=BeautifulSoup(result,\"lxml\")\n",
    "    return soup"
   ]
  },
  {
   "cell_type": "code",
   "execution_count": 3,
   "metadata": {},
   "outputs": [],
   "source": [
    "def parse_laptops(url):\n",
    "    \n",
    "    soup=get_soup(url)\n",
    "    class_box=soup.find_all(\"div\",{'class':'OfferBox'}) #for each page of this site we want to obtain the url of the next page\n",
    "    class_page=soup.find_all(\"div\",{'class':'sr_pagination'})#and also the url of each laptop (also the name and the price)\n",
    "    row_list=[]\n",
    "    \n",
    "    for i in class_box:\n",
    "        laptop=i.find('a',{'class':'offerboxtitle'})\n",
    "        laptop_url='https://www.laptopsdirect.co.uk'+laptop.get(\"href\")\n",
    "        laptop_specs=get_specs(laptop_url)#we get the specs for each laptop\n",
    "        laptop_specs[\"Name\"]=laptop.text #we add to the specs the name and price of the laptop\n",
    "        laptop_specs[\"Price\"]=i.find('span',{'class':'offerprice'}).text\n",
    "        row_list.append(laptop_specs)\n",
    "    try:\n",
    "        next_page='https://www.laptopsdirect.co.uk'+class_page[0].find(title=\"Next Page\").get(\"href\")\n",
    "    except:\n",
    "        next_page=None #we get the next page url\n",
    "   \n",
    "    return row_list,next_page\n",
    "    \n",
    "    "
   ]
  },
  {
   "cell_type": "code",
   "execution_count": 4,
   "metadata": {},
   "outputs": [],
   "source": [
    "def get_specs(url): #here we obtain the first 12 specs of the laptop page\n",
    "    specs_dict={} #generally the first 12 specs are the most general ones, the ones that we are interested\n",
    "    soup_lap=get_soup(url)\n",
    "    class_spec=soup_lap.find(id='specData')\n",
    "    \n",
    "    if class_spec==None:\n",
    "        return specs_dict \n",
    "    else:\n",
    "        spec_name=class_spec.find_all('span',{'class':'Header'})[0:12] #we get the name of the spec and its value\n",
    "        spec_val=class_spec.find_all('span',{'class':'BodyText'})[0:12]\n",
    "        \n",
    "        for i in range(len(spec_name)):\n",
    "            specs_dict[spec_name[i].text]=spec_val[i].text #we build a dictionary to store the specs names and values\n",
    "    \n",
    "        return specs_dict"
   ]
  },
  {
   "cell_type": "code",
   "execution_count": 70,
   "metadata": {},
   "outputs": [
    {
     "name": "stdout",
     "output_type": "stream",
     "text": [
      "Elapsed time: 837.2s\n"
     ]
    }
   ],
   "source": [
    "url='https://www.laptopsdirect.co.uk/ct/laptops-and-netbooks/laptops'\n",
    "final_laptop_list=[]\n",
    "toc=time.time()\n",
    "page_num=1\n",
    "while url != None: #we iterate over all different pages and we store the dictionaries of all the laptops in a list of dictionaries\n",
    "    page_num\n",
    "    page_num+=1\n",
    "    dict_list, url=parse_laptops(url)\n",
    "    for j in dict_list:\n",
    "        final_laptop_list.append(j)\n",
    "        \n",
    "tic=time.time()\n",
    "print(\"Elapsed time: \"+str(round(tic-toc,1))+\"s\")"
   ]
  },
  {
   "cell_type": "code",
   "execution_count": 162,
   "metadata": {},
   "outputs": [],
   "source": [
    "laptops_data=pd.DataFrame(final_laptop_list) #we transform our list of dictionaries into a  dataframe"
   ]
  },
  {
   "cell_type": "markdown",
   "metadata": {},
   "source": [
    "Now that we have all our specs and all our laptops we could just save it into a csv file. However, we see that some categories that are numerical (screen size, price, RAM...) are strings. This is not useful for our purpose of trying to filter latops for some characteristics. In addition we have seen that the values in this categories are not formated the same. For example, in the screen size some laptops have 13in other 13Inches and others 13. We want to unify the values for all of them and we build different functions to do such thing"
   ]
  },
  {
   "cell_type": "code",
   "execution_count": 119,
   "metadata": {},
   "outputs": [],
   "source": [
    "def ram_split(ram_str):\n",
    "    if type(ram_str) != str:\n",
    "        ram_int=None\n",
    "    else:\n",
    "        ram_int=int(ram_str.split('G')[0])#we turn the part before the G of GB (the value) into a string\n",
    "    return ram_int"
   ]
  },
  {
   "cell_type": "code",
   "execution_count": 138,
   "metadata": {},
   "outputs": [],
   "source": [
    "def storage_split(storage_str):\n",
    "    if type(storage_str) == float:\n",
    "        storage_int=None\n",
    "    elif storage_str=='':\n",
    "        storage_int=None\n",
    "    else:\n",
    "        if storage_str.find('G')==-1: #if the storage is in TB the split function will outpu -1 if it doesn't find a G\n",
    "            storage_int=int(storage_str.split('T')[0])*1000\n",
    "            \n",
    "        else:\n",
    "            if storage_str[0]==\"G\": #some laptops have their storage as GB256\n",
    "                storage_int=int(storage_str.split('B')[1])\n",
    "            else:\n",
    "                storage_int=int(storage_str.split('G')[0])\n",
    "    return storage_int"
   ]
  },
  {
   "cell_type": "code",
   "execution_count": 148,
   "metadata": {},
   "outputs": [],
   "source": [
    "def screen_split(screen_str):\n",
    "    try:\n",
    "        screen_int=float(screen_str)\n",
    "    except:        \n",
    "        if type(screen_str) != str:\n",
    "            screen_int=None\n",
    "        else:\n",
    "            try:\n",
    "                screen_int=float(screen_str.split('I')[0]) #some laptops have 13in or 13Inches\n",
    "            except:\n",
    "                screen_int=float(screen_str.split('i')[0])\n",
    "    return screen_int"
   ]
  },
  {
   "cell_type": "code",
   "execution_count": 153,
   "metadata": {},
   "outputs": [],
   "source": [
    "def battery_split(bat_str):\n",
    "    try:\n",
    "        bat_int=float(bat_str)\n",
    "    except:\n",
    "        if type(bat_str) != str:\n",
    "            bat_int=None\n",
    "        else:\n",
    "            bat_int=float(bat_str.split('h')[0])\n",
    "    return bat_int"
   ]
  },
  {
   "cell_type": "code",
   "execution_count": 163,
   "metadata": {},
   "outputs": [],
   "source": [
    "laptops_data[\"Price\"]=laptops_data[\"Price\"].apply(lambda x: float(x.split('£')[1]))\n",
    "laptops_data[\"RAM Memory\"]=laptops_data[\"RAM Memory\"].apply(lambda x: ram_split(x))\n",
    "laptops_data[\"Storage\"]=laptops_data[\"Storage\"].apply(lambda x: storage_split(x))\n",
    "laptops_data[\"Screen size\"]=laptops_data[\"Screen size\"].apply(lambda x: screen_split(x))\n",
    "laptops_data[\"Battery Run Time\"]=laptops_data[\"Battery Run Time\"].apply(lambda x: battery_split(x))\n",
    "\n"
   ]
  },
  {
   "cell_type": "markdown",
   "metadata": {},
   "source": [
    "Now that we have our data clean we can take a look at the numeric catgories that we have transformed and have an idea of how they look"
   ]
  },
  {
   "cell_type": "code",
   "execution_count": 165,
   "metadata": {
    "scrolled": true
   },
   "outputs": [
    {
     "data": {
      "text/html": [
       "<div>\n",
       "<style scoped>\n",
       "    .dataframe tbody tr th:only-of-type {\n",
       "        vertical-align: middle;\n",
       "    }\n",
       "\n",
       "    .dataframe tbody tr th {\n",
       "        vertical-align: top;\n",
       "    }\n",
       "\n",
       "    .dataframe thead th {\n",
       "        text-align: right;\n",
       "    }\n",
       "</style>\n",
       "<table border=\"1\" class=\"dataframe\">\n",
       "  <thead>\n",
       "    <tr style=\"text-align: right;\">\n",
       "      <th></th>\n",
       "      <th>Battery Run Time</th>\n",
       "      <th>Price</th>\n",
       "      <th>RAM Memory</th>\n",
       "      <th>Screen size</th>\n",
       "      <th>Storage</th>\n",
       "    </tr>\n",
       "  </thead>\n",
       "  <tbody>\n",
       "    <tr>\n",
       "      <th>count</th>\n",
       "      <td>705.000000</td>\n",
       "      <td>1539.000000</td>\n",
       "      <td>1485.000000</td>\n",
       "      <td>1433.000000</td>\n",
       "      <td>1420.000000</td>\n",
       "    </tr>\n",
       "    <tr>\n",
       "      <th>mean</th>\n",
       "      <td>9.785106</td>\n",
       "      <td>715.477797</td>\n",
       "      <td>6.791919</td>\n",
       "      <td>14.409002</td>\n",
       "      <td>421.080282</td>\n",
       "    </tr>\n",
       "    <tr>\n",
       "      <th>std</th>\n",
       "      <td>3.447391</td>\n",
       "      <td>691.383663</td>\n",
       "      <td>4.802340</td>\n",
       "      <td>1.673811</td>\n",
       "      <td>349.904794</td>\n",
       "    </tr>\n",
       "    <tr>\n",
       "      <th>min</th>\n",
       "      <td>2.000000</td>\n",
       "      <td>119.970000</td>\n",
       "      <td>1.000000</td>\n",
       "      <td>10.100000</td>\n",
       "      <td>16.000000</td>\n",
       "    </tr>\n",
       "    <tr>\n",
       "      <th>25%</th>\n",
       "      <td>8.000000</td>\n",
       "      <td>249.970000</td>\n",
       "      <td>4.000000</td>\n",
       "      <td>13.300000</td>\n",
       "      <td>150.000000</td>\n",
       "    </tr>\n",
       "    <tr>\n",
       "      <th>50%</th>\n",
       "      <td>10.000000</td>\n",
       "      <td>398.980000</td>\n",
       "      <td>4.000000</td>\n",
       "      <td>14.000000</td>\n",
       "      <td>256.000000</td>\n",
       "    </tr>\n",
       "    <tr>\n",
       "      <th>75%</th>\n",
       "      <td>12.000000</td>\n",
       "      <td>989.980000</td>\n",
       "      <td>8.000000</td>\n",
       "      <td>15.600000</td>\n",
       "      <td>512.000000</td>\n",
       "    </tr>\n",
       "    <tr>\n",
       "      <th>max</th>\n",
       "      <td>26.000000</td>\n",
       "      <td>4442.980000</td>\n",
       "      <td>32.000000</td>\n",
       "      <td>31.500000</td>\n",
       "      <td>2000.000000</td>\n",
       "    </tr>\n",
       "  </tbody>\n",
       "</table>\n",
       "</div>"
      ],
      "text/plain": [
       "       Battery Run Time        Price   RAM Memory  Screen size      Storage\n",
       "count        705.000000  1539.000000  1485.000000  1433.000000  1420.000000\n",
       "mean           9.785106   715.477797     6.791919    14.409002   421.080282\n",
       "std            3.447391   691.383663     4.802340     1.673811   349.904794\n",
       "min            2.000000   119.970000     1.000000    10.100000    16.000000\n",
       "25%            8.000000   249.970000     4.000000    13.300000   150.000000\n",
       "50%           10.000000   398.980000     4.000000    14.000000   256.000000\n",
       "75%           12.000000   989.980000     8.000000    15.600000   512.000000\n",
       "max           26.000000  4442.980000    32.000000    31.500000  2000.000000"
      ]
     },
     "execution_count": 165,
     "metadata": {},
     "output_type": "execute_result"
    }
   ],
   "source": [
    "laptops_data.describe()"
   ]
  },
  {
   "cell_type": "markdown",
   "metadata": {},
   "source": [
    "Now we can turn our dataframe into a csv but only those columns that are relevant to us"
   ]
  },
  {
   "cell_type": "code",
   "execution_count": 164,
   "metadata": {},
   "outputs": [
    {
     "name": "stderr",
     "output_type": "stream",
     "text": [
      "/home/oscarmartinez/anaconda3/lib/python3.6/site-packages/pandas/core/indexing.py:1472: FutureWarning: \n",
      "Passing list-likes to .loc or [] with any missing label will raise\n",
      "KeyError in the future, you can use .reindex() as an alternative.\n",
      "\n",
      "See the documentation here:\n",
      "https://pandas.pydata.org/pandas-docs/stable/indexing.html#deprecate-loc-reindex-listlike\n",
      "  return self._getitem_tuple(key)\n"
     ]
    }
   ],
   "source": [
    "laptops_data_filter.to_csv('laptop_results.csv',columns=['Name','Price','Storage','RAM Memory','Screen Size','Screen Resolution',\\\n",
    "                                                         'Processor Model','Processor Number','Processor manufacturer','Operating System',\\\n",
    "                                                         'Battery Run Time','Optical Drive','Touchscreen','Warranty'])"
   ]
  },
  {
   "cell_type": "markdown",
   "metadata": {},
   "source": [
    "## Parallel scraping with threads\n",
    "We have seen that scraping the 1504 laptops and its specs is quite a slow process (about 850s). However there is a more efficient way to do it. We can use the Thread library of Python to create different workers that will scrape in parallel so we can search in more than one laptop page at once. To start we have to get the links of all the pagesin the laptop site. This is aldo a slow process (75s) and I am sure that it could also be optimized via parallel computing. Nevertheless, for now we woill only focus in giving our workers the urls and let them scrape each laptop."
   ]
  },
  {
   "cell_type": "code",
   "execution_count": 37,
   "metadata": {},
   "outputs": [],
   "source": [
    "def parse_laptops_thread(url): #we modify our previous parse laptops function so it only scrapes the specs of the laptop\n",
    "    \n",
    "    soup=get_soup(url)\n",
    "    class_box=soup.find_all(\"div\",{'class':'OfferBox'})\n",
    "    row_list=[]\n",
    "    \n",
    "    for i in class_box:\n",
    "        laptop=i.find('a',{'class':'offerboxtitle'})\n",
    "        laptop_url='https://www.laptopsdirect.co.uk'+laptop.get(\"href\")\n",
    "        laptop_specs=get_specs(laptop_url)\n",
    "        laptop_specs[\"Name\"]=laptop.text\n",
    "        laptop_specs[\"Price\"]=i.find('span',{'class':'offerprice'}).text\n",
    "        row_list.append(laptop_specs)\n",
    "   \n",
    "   \n",
    "    return row_list\n",
    "    \n",
    "    "
   ]
  },
  {
   "cell_type": "code",
   "execution_count": 14,
   "metadata": {},
   "outputs": [],
   "source": [
    "def get_page_url(first_url):#we create a function to scrape the url's from all the different pages and store it in a list \n",
    "    soup=get_soup(url)\n",
    "    class_page=soup.find_all(\"div\",{'class':'sr_pagination'})\n",
    "    try:\n",
    "        next_page='https://www.laptopsdirect.co.uk'+class_page[0].find(title=\"Next Page\").get(\"href\")\n",
    "    except:\n",
    "        next_page=None\n",
    "    \n",
    "    return next_page\n"
   ]
  },
  {
   "cell_type": "code",
   "execution_count": 33,
   "metadata": {},
   "outputs": [
    {
     "name": "stdout",
     "output_type": "stream",
     "text": [
      "Elapsed time: 75.9s\n"
     ]
    }
   ],
   "source": [
    "url='https://www.laptopsdirect.co.uk/ct/laptops-and-netbooks/laptops'\n",
    "pages_url=[]\n",
    "toc=time.time()\n",
    "while url != None:\n",
    "    url=get_page_url(url)\n",
    "    pages_url.append(url)\n",
    "        \n",
    "tic=time.time()\n",
    "print(\"Elapsed time: \"+str(round(tic-toc,1))+\"s\")"
   ]
  },
  {
   "cell_type": "code",
   "execution_count": 51,
   "metadata": {},
   "outputs": [],
   "source": [
    "def main_scraper(urls):#we define our scraper and the queue of urls\n",
    "    data = []\n",
    "    q = Queue()\n",
    "    for url in urls:\n",
    "        q.put(url)\n",
    "    for i in range(32): #we use 32 workers because it's half of the length of the pages_url list\n",
    "        t = Thread(target = scraper_worker, args = (q, data))\n",
    "        t.daemon = True\n",
    "        t.start()\n",
    "    q.join()\n",
    "    return data\n",
    "\n",
    "def scraper_worker(q, data):#we define our workers that take one url and call the function to ge its specs\n",
    "    while not q.empty():\n",
    "        print(\"inside scraper worker, queue not empty\")\n",
    "        f= q.get()\n",
    "        dict_list=parse_laptops_thread(f)\n",
    "        for j in dict_list:\n",
    "            data.append(j)\n",
    "        q.task_done() #onece they have finished they move to another task\n",
    "    return data"
   ]
  },
  {
   "cell_type": "code",
   "execution_count": 46,
   "metadata": {},
   "outputs": [
    {
     "data": {
      "text/plain": [
       "1492"
      ]
     },
     "execution_count": 46,
     "metadata": {},
     "output_type": "execute_result"
    }
   ],
   "source": [
    "len(laptops_data_thread[\"Price\"])"
   ]
  },
  {
   "cell_type": "code",
   "execution_count": 52,
   "metadata": {
    "scrolled": true
   },
   "outputs": [
    {
     "name": "stdout",
     "output_type": "stream",
     "text": [
      "inside scraper worker, queue not empty\n",
      "inside scraper worker, queue not emptyinside scraper worker, queue not empty\n",
      "\n",
      "inside scraper worker, queue not empty\n",
      "inside scraper worker, queue not empty\n",
      "inside scraper worker, queue not empty\n",
      "inside scraper worker, queue not empty\n",
      "inside scraper worker, queue not empty\n",
      "inside scraper worker, queue not empty\n",
      "inside scraper worker, queue not empty\n",
      "inside scraper worker, queue not empty\n",
      "inside scraper worker, queue not emptyinside scraper worker, queue not empty\n",
      "\n",
      "inside scraper worker, queue not empty\n",
      "inside scraper worker, queue not empty\n",
      "inside scraper worker, queue not empty\n",
      "inside scraper worker, queue not emptyinside scraper worker, queue not empty\n",
      "\n",
      "inside scraper worker, queue not empty\n",
      "inside scraper worker, queue not empty\n",
      "inside scraper worker, queue not empty\n",
      "inside scraper worker, queue not empty\n",
      "inside scraper worker, queue not empty\n",
      "inside scraper worker, queue not empty\n",
      "inside scraper worker, queue not empty\n",
      "inside scraper worker, queue not empty\n",
      "inside scraper worker, queue not empty\n",
      "inside scraper worker, queue not empty\n",
      "inside scraper worker, queue not empty\n",
      "inside scraper worker, queue not empty\n",
      "inside scraper worker, queue not empty\n",
      "inside scraper worker, queue not empty\n",
      "inside scraper worker, queue not empty\n",
      "inside scraper worker, queue not empty\n",
      "inside scraper worker, queue not empty\n",
      "inside scraper worker, queue not empty\n",
      "inside scraper worker, queue not empty\n",
      "inside scraper worker, queue not empty\n",
      "inside scraper worker, queue not empty\n",
      "inside scraper worker, queue not empty\n",
      "inside scraper worker, queue not empty\n",
      "inside scraper worker, queue not empty\n",
      "inside scraper worker, queue not empty\n",
      "inside scraper worker, queue not empty\n",
      "inside scraper worker, queue not empty\n",
      "inside scraper worker, queue not empty\n",
      "inside scraper worker, queue not empty\n",
      "inside scraper worker, queue not emptyinside scraper worker, queue not empty\n",
      "\n",
      "inside scraper worker, queue not empty\n",
      "inside scraper worker, queue not empty\n",
      "inside scraper worker, queue not emptyinside scraper worker, queue not empty\n",
      "\n",
      "inside scraper worker, queue not empty\n",
      "inside scraper worker, queue not empty\n",
      "inside scraper worker, queue not emptyinside scraper worker, queue not empty\n",
      "\n",
      "inside scraper worker, queue not empty\n",
      "inside scraper worker, queue not empty\n",
      "inside scraper worker, queue not empty\n",
      "inside scraper worker, queue not empty\n",
      "inside scraper worker, queue not empty\n",
      "inside scraper worker, queue not empty\n",
      "Elapsed time: 309.4s\n"
     ]
    }
   ],
   "source": [
    "toc=time.time()\n",
    "results=main_scraper(pages_url[0:len(pages_url)-1])\n",
    "tic=time.time()\n",
    "print(\"Elapsed time: \"+str(round(tic-toc,1))+\"s\")"
   ]
  },
  {
   "cell_type": "code",
   "execution_count": 45,
   "metadata": {},
   "outputs": [],
   "source": [
    "laptops_data_thread=pd.DataFrame(results)"
   ]
  },
  {
   "cell_type": "code",
   "execution_count": 47,
   "metadata": {
    "scrolled": true
   },
   "outputs": [
    {
     "data": {
      "text/html": [
       "<div>\n",
       "<style scoped>\n",
       "    .dataframe tbody tr th:only-of-type {\n",
       "        vertical-align: middle;\n",
       "    }\n",
       "\n",
       "    .dataframe tbody tr th {\n",
       "        vertical-align: top;\n",
       "    }\n",
       "\n",
       "    .dataframe thead th {\n",
       "        text-align: right;\n",
       "    }\n",
       "</style>\n",
       "<table border=\"1\" class=\"dataframe\">\n",
       "  <thead>\n",
       "    <tr style=\"text-align: right;\">\n",
       "      <th></th>\n",
       "      <th>3G</th>\n",
       "      <th>Back lit keyboard</th>\n",
       "      <th>Battery Run Time</th>\n",
       "      <th>Capacity</th>\n",
       "      <th>Clock Speed</th>\n",
       "      <th>Colour</th>\n",
       "      <th>Convertible Device</th>\n",
       "      <th>Convertible Device (Y/N)</th>\n",
       "      <th>Depth</th>\n",
       "      <th>Form factor</th>\n",
       "      <th>...</th>\n",
       "      <th>SSD Capacity</th>\n",
       "      <th>Screen Resolution</th>\n",
       "      <th>Screen size</th>\n",
       "      <th>Storage</th>\n",
       "      <th>Total Slots</th>\n",
       "      <th>Touchscreen</th>\n",
       "      <th>Warranty</th>\n",
       "      <th>Weight</th>\n",
       "      <th>Wi-Fi</th>\n",
       "      <th>Width</th>\n",
       "    </tr>\n",
       "  </thead>\n",
       "  <tbody>\n",
       "    <tr>\n",
       "      <th>0</th>\n",
       "      <td>NaN</td>\n",
       "      <td>NaN</td>\n",
       "      <td>14hours</td>\n",
       "      <td>NaN</td>\n",
       "      <td>NaN</td>\n",
       "      <td>NaN</td>\n",
       "      <td>NaN</td>\n",
       "      <td>NaN</td>\n",
       "      <td>NaN</td>\n",
       "      <td>NaN</td>\n",
       "      <td>...</td>\n",
       "      <td>NaN</td>\n",
       "      <td>1366 x 768</td>\n",
       "      <td>15.6in</td>\n",
       "      <td>500GB</td>\n",
       "      <td>NaN</td>\n",
       "      <td>Non Touch</td>\n",
       "      <td>3 Month RTB Warranty</td>\n",
       "      <td>NaN</td>\n",
       "      <td>NaN</td>\n",
       "      <td>NaN</td>\n",
       "    </tr>\n",
       "    <tr>\n",
       "      <th>1</th>\n",
       "      <td>NaN</td>\n",
       "      <td>NaN</td>\n",
       "      <td>8hours</td>\n",
       "      <td>NaN</td>\n",
       "      <td>NaN</td>\n",
       "      <td>NaN</td>\n",
       "      <td>NaN</td>\n",
       "      <td>NaN</td>\n",
       "      <td>NaN</td>\n",
       "      <td>NaN</td>\n",
       "      <td>...</td>\n",
       "      <td>NaN</td>\n",
       "      <td>2880 x 1800</td>\n",
       "      <td>15.4in</td>\n",
       "      <td>256GB</td>\n",
       "      <td>NaN</td>\n",
       "      <td>Non Touch</td>\n",
       "      <td>1 year warranty</td>\n",
       "      <td>NaN</td>\n",
       "      <td>NaN</td>\n",
       "      <td>NaN</td>\n",
       "    </tr>\n",
       "    <tr>\n",
       "      <th>2</th>\n",
       "      <td>NaN</td>\n",
       "      <td>NaN</td>\n",
       "      <td>NaN</td>\n",
       "      <td>NaN</td>\n",
       "      <td>NaN</td>\n",
       "      <td>NaN</td>\n",
       "      <td>NaN</td>\n",
       "      <td>NaN</td>\n",
       "      <td>NaN</td>\n",
       "      <td>NaN</td>\n",
       "      <td>...</td>\n",
       "      <td>NaN</td>\n",
       "      <td>1366 x 768</td>\n",
       "      <td>14in</td>\n",
       "      <td>500GB</td>\n",
       "      <td>NaN</td>\n",
       "      <td>Non Touch</td>\n",
       "      <td>1 year warranty</td>\n",
       "      <td>NaN</td>\n",
       "      <td>NaN</td>\n",
       "      <td>NaN</td>\n",
       "    </tr>\n",
       "    <tr>\n",
       "      <th>3</th>\n",
       "      <td>NaN</td>\n",
       "      <td>NaN</td>\n",
       "      <td>9hours</td>\n",
       "      <td>NaN</td>\n",
       "      <td>NaN</td>\n",
       "      <td>NaN</td>\n",
       "      <td>NaN</td>\n",
       "      <td>NaN</td>\n",
       "      <td>NaN</td>\n",
       "      <td>NaN</td>\n",
       "      <td>...</td>\n",
       "      <td>NaN</td>\n",
       "      <td>1920 x 1080</td>\n",
       "      <td>15.6in</td>\n",
       "      <td>1TB</td>\n",
       "      <td>NaN</td>\n",
       "      <td>Non Touch</td>\n",
       "      <td>3 Month RTB Warranty</td>\n",
       "      <td>NaN</td>\n",
       "      <td>NaN</td>\n",
       "      <td>NaN</td>\n",
       "    </tr>\n",
       "    <tr>\n",
       "      <th>4</th>\n",
       "      <td>NaN</td>\n",
       "      <td>NaN</td>\n",
       "      <td>NaN</td>\n",
       "      <td>NaN</td>\n",
       "      <td>NaN</td>\n",
       "      <td>NaN</td>\n",
       "      <td></td>\n",
       "      <td>NaN</td>\n",
       "      <td>NaN</td>\n",
       "      <td>NaN</td>\n",
       "      <td>...</td>\n",
       "      <td>NaN</td>\n",
       "      <td>NaN</td>\n",
       "      <td>14in</td>\n",
       "      <td>160GB</td>\n",
       "      <td>NaN</td>\n",
       "      <td>Non Touch</td>\n",
       "      <td>30 Day RTB Warranty</td>\n",
       "      <td>NaN</td>\n",
       "      <td>NaN</td>\n",
       "      <td>NaN</td>\n",
       "    </tr>\n",
       "  </tbody>\n",
       "</table>\n",
       "<p>5 rows × 39 columns</p>\n",
       "</div>"
      ],
      "text/plain": [
       "    3G Back lit keyboard Battery Run Time Capacity Clock Speed Colour  \\\n",
       "0  NaN               NaN          14hours      NaN         NaN    NaN   \n",
       "1  NaN               NaN           8hours      NaN         NaN    NaN   \n",
       "2  NaN               NaN              NaN      NaN         NaN    NaN   \n",
       "3  NaN               NaN           9hours      NaN         NaN    NaN   \n",
       "4  NaN               NaN              NaN      NaN         NaN    NaN   \n",
       "\n",
       "  Convertible Device Convertible Device (Y/N) Depth Form factor  ...   \\\n",
       "0                NaN                      NaN   NaN         NaN  ...    \n",
       "1                NaN                      NaN   NaN         NaN  ...    \n",
       "2                NaN                      NaN   NaN         NaN  ...    \n",
       "3                NaN                      NaN   NaN         NaN  ...    \n",
       "4                                         NaN   NaN         NaN  ...    \n",
       "\n",
       "  SSD Capacity Screen Resolution Screen size Storage Total Slots Touchscreen  \\\n",
       "0          NaN        1366 x 768      15.6in   500GB         NaN   Non Touch   \n",
       "1          NaN       2880 x 1800      15.4in   256GB         NaN   Non Touch   \n",
       "2          NaN        1366 x 768        14in   500GB         NaN   Non Touch   \n",
       "3          NaN       1920 x 1080      15.6in     1TB         NaN   Non Touch   \n",
       "4          NaN               NaN        14in   160GB         NaN   Non Touch   \n",
       "\n",
       "               Warranty Weight Wi-Fi Width  \n",
       "0  3 Month RTB Warranty    NaN   NaN   NaN  \n",
       "1       1 year warranty    NaN   NaN   NaN  \n",
       "2       1 year warranty    NaN   NaN   NaN  \n",
       "3  3 Month RTB Warranty    NaN   NaN   NaN  \n",
       "4   30 Day RTB Warranty    NaN   NaN   NaN  \n",
       "\n",
       "[5 rows x 39 columns]"
      ]
     },
     "execution_count": 47,
     "metadata": {},
     "output_type": "execute_result"
    }
   ],
   "source": [
    "laptops_data_thread.head(5)"
   ]
  },
  {
   "cell_type": "markdown",
   "metadata": {},
   "source": [
    "Now we could proceed the same way we did before (when we didn't use  the scraping). However this section was just to ilustrate the reduction in computation time that we have using threads.We have reduced 5 minutes of computation time, approximately."
   ]
  }
 ],
 "metadata": {
  "kernelspec": {
   "display_name": "Python 3",
   "language": "python",
   "name": "python3"
  },
  "language_info": {
   "codemirror_mode": {
    "name": "ipython",
    "version": 3
   },
   "file_extension": ".py",
   "mimetype": "text/x-python",
   "name": "python",
   "nbconvert_exporter": "python",
   "pygments_lexer": "ipython3",
   "version": "3.6.5"
  },
  "varInspector": {
   "cols": {
    "lenName": 16,
    "lenType": 16,
    "lenVar": 40
   },
   "kernels_config": {
    "python": {
     "delete_cmd_postfix": "",
     "delete_cmd_prefix": "del ",
     "library": "var_list.py",
     "varRefreshCmd": "print(var_dic_list())"
    },
    "r": {
     "delete_cmd_postfix": ") ",
     "delete_cmd_prefix": "rm(",
     "library": "var_list.r",
     "varRefreshCmd": "cat(var_dic_list()) "
    }
   },
   "oldHeight": 305,
   "position": {
    "height": "40px",
    "left": "1391px",
    "right": "-3px",
    "top": "93px",
    "width": "473px"
   },
   "types_to_exclude": [
    "module",
    "function",
    "builtin_function_or_method",
    "instance",
    "_Feature"
   ],
   "varInspector_section_display": "none",
   "window_display": true
  }
 },
 "nbformat": 4,
 "nbformat_minor": 2
}
